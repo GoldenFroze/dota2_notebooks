{
 "cells": [
  {
   "cell_type": "markdown",
   "metadata": {},
   "source": [
    "# Unlocking all effigie animations\n",
    "\n",
    "The code looks up all hidden animations and adds them to the script file.\n",
    "Finally, we generate a VPK that can be loaded in the game.\n",
    "\n",
    "### Installation\n",
    "\n",
    "1. Go to [all_animations.zip](resources/all_animations.zip) and click `View Raw` on the page\n",
    "2. Extract in `[steam folder]\\steamapps\\common\\dota 2 beta\\game\\`\n",
    "3. Edit `[dota 2 beta dir]\\game\\dota\\gameinfo.gi` and add `Game all_animations` in the `SearchPaths` section\n",
    "\n",
    "![Spellicons showcase](resources/animation_install.png \"Spellicons showcase\")\n",
    "\n",
    "4. Finally, launch Dota 2 and make some effigies\n",
    "\n",
    "### Code\n",
    "\n",
    "To run the code below you need `vdf >= 2.0` and `vpk >= 1.10`. Both are available via `pip`"
   ]
  },
  {
   "cell_type": "code",
   "execution_count": 1,
   "metadata": {
    "collapsed": false
   },
   "outputs": [],
   "source": [
    "import re\n",
    "import vdf\n",
    "import vpk\n",
    "\n",
    "vpk_path = \"/d/Steam/steamapps/common/dota 2 beta/game/dota/pak01_dir.vpk\"\n",
    "anim_path = \"scripts/animation_statues.txt\"\n",
    "out_path = 'resources/animations'\n",
    "\n",
    "pak1 = vpk.VPK(vpk_path)\n",
    "anim = vdf.load(pak1.get_file(anim_path), mapper=vdf.VDFDict)"
   ]
  },
  {
   "cell_type": "markdown",
   "metadata": {},
   "source": [
    "# Fill in missing animations"
   ]
  },
  {
   "cell_type": "code",
   "execution_count": 2,
   "metadata": {
    "collapsed": false
   },
   "outputs": [],
   "source": [
    "def get_animations(model_path):\n",
    "    prefix = '/'.join(model_path.split('/')[:-1])\n",
    "    animations = []\n",
    "    for model_path in pak1:\n",
    "        if model_path.startswith(prefix) and model_path.endswith('vanim_c'):\n",
    "            name = model_path.split('/')[-1]\n",
    "            if name[0] != '_' and name != 'bind_pose.vanim_c':\n",
    "                animations.append(name.split('.')[0])\n",
    "    return set(animations)\n",
    "\n",
    "for model_path, statue_animations in anim['DOTAStatueHeroes']['animations'].items():\n",
    "    if not model_path.startswith(\"models\"):\n",
    "        continue\n",
    "\n",
    "    for name in get_animations(model_path):\n",
    "        if name not in statue_animations:\n",
    "            statue_animations[name] = '1'"
   ]
  },
  {
   "cell_type": "markdown",
   "metadata": {},
   "source": [
    "# Generate VPK with updated animation script"
   ]
  },
  {
   "cell_type": "code",
   "execution_count": 3,
   "metadata": {
    "collapsed": false
   },
   "outputs": [
    {
     "name": "stdout",
     "output_type": "stream",
     "text": [
      "  adding: all_animations/ (stored 0%)\r\n",
      "  adding: all_animations/pak01_dir.vpk (deflated 86%)\r\n"
     ]
    }
   ],
   "source": [
    "!rm -rf ./{out_path}/*\n",
    "!mkdir -p ./{out_path}/scripts\n",
    "vdf.dump(anim, open(\"%s/%s\" % (out_path, anim_path), 'wb'), pretty=True)\n",
    "\n",
    "!mkdir -p ./{out_path}/all_animations/\n",
    "vpk.new(out_path).save(\"%s/all_animations/pak01_dir.vpk\" % out_path)\n",
    "\n",
    "!cd {out_path} && zip -r ../all_animations.zip all_animations"
   ]
  }
 ],
 "metadata": {
  "kernelspec": {
   "display_name": "Python 2",
   "language": "python",
   "name": "python2"
  },
  "language_info": {
   "codemirror_mode": {
    "name": "ipython",
    "version": 2
   },
   "file_extension": ".py",
   "mimetype": "text/x-python",
   "name": "python",
   "nbconvert_exporter": "python",
   "pygments_lexer": "ipython2",
   "version": "2.7.10"
  }
 },
 "nbformat": 4,
 "nbformat_minor": 0
}
