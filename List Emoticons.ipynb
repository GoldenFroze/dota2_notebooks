{
 "cells": [
  {
   "cell_type": "markdown",
   "metadata": {},
   "source": [
    "The code below generates a list of all emoticons in dota and their unicode character. Copy the unicode character into Dota 2's chat to use the emoticon. Works regardless of you own the emoticon pack."
   ]
  },
  {
   "cell_type": "code",
   "execution_count": 1,
   "metadata": {
    "collapsed": false
   },
   "outputs": [
    {
     "data": {
      "text/html": [
       "<table><tr><th>chr</th><th>alias</th><th>preview</th></tr>\n",
       "<tr><td></td><td>:wink:</td><td><img src=\"https://raw.githubusercontent.com/dotabuff/d2vpk/master/dota_pak01/resource/flash3/images/emoticons/wink.png\"></td></tr>\n",
       "<tr><td></td><td>:blush:</td><td><img src=\"https://raw.githubusercontent.com/dotabuff/d2vpk/master/dota_pak01/resource/flash3/images/emoticons/blush.png\"></td></tr>\n",
       "<tr><td></td><td>:cheeky:</td><td><img src=\"https://raw.githubusercontent.com/dotabuff/d2vpk/master/dota_pak01/resource/flash3/images/emoticons/cheeky.png\"></td></tr>\n",
       "<tr><td></td><td>:cool:</td><td><img src=\"https://raw.githubusercontent.com/dotabuff/d2vpk/master/dota_pak01/resource/flash3/images/emoticons/cool.png\"></td></tr>\n",
       "<tr><td></td><td>:crazy:</td><td><img src=\"https://raw.githubusercontent.com/dotabuff/d2vpk/master/dota_pak01/resource/flash3/images/emoticons/crazy.png\"></td></tr>\n",
       "<tr><td></td><td>:cry:</td><td><img src=\"https://raw.githubusercontent.com/dotabuff/d2vpk/master/dota_pak01/resource/flash3/images/emoticons/cry.png\"></td></tr>\n",
       "<tr><td></td><td>:disapprove:</td><td><img src=\"https://raw.githubusercontent.com/dotabuff/d2vpk/master/dota_pak01/resource/flash3/images/emoticons/disaprove.png\"></td></tr>\n",
       "<tr><td></td><td>:doubledamage:</td><td><img src=\"https://raw.githubusercontent.com/dotabuff/d2vpk/master/dota_pak01/resource/flash3/images/emoticons/doubledamage.png\"></td></tr>\n",
       "<tr><td></td><td>:facepalm:</td><td><img src=\"https://raw.githubusercontent.com/dotabuff/d2vpk/master/dota_pak01/resource/flash3/images/emoticons/facepalm.png\"></td></tr>\n",
       "<tr><td></td><td>:happytears:</td><td><img src=\"https://raw.githubusercontent.com/dotabuff/d2vpk/master/dota_pak01/resource/flash3/images/emoticons/happytears.png\"></td></tr>\n",
       "<tr><td></td><td>:haste:</td><td><img src=\"https://raw.githubusercontent.com/dotabuff/d2vpk/master/dota_pak01/resource/flash3/images/emoticons/haste.png\"></td></tr>\n",
       "<tr><td></td><td>:hex:</td><td><img src=\"https://raw.githubusercontent.com/dotabuff/d2vpk/master/dota_pak01/resource/flash3/images/emoticons/hex.png\"></td></tr>\n",
       "<tr><td></td><td>:highfive:</td><td><img src=\"https://raw.githubusercontent.com/dotabuff/d2vpk/master/dota_pak01/resource/flash3/images/emoticons/highfive.png\"></td></tr>\n",
       "<tr><td></td><td>:huh:</td><td><img src=\"https://raw.githubusercontent.com/dotabuff/d2vpk/master/dota_pak01/resource/flash3/images/emoticons/huh.png\"></td></tr>\n",
       "<tr><td></td><td>:hush:</td><td><img src=\"https://raw.githubusercontent.com/dotabuff/d2vpk/master/dota_pak01/resource/flash3/images/emoticons/hush.png\"></td></tr>\n",
       "<tr><td></td><td>:illusion:</td><td><img src=\"https://raw.githubusercontent.com/dotabuff/d2vpk/master/dota_pak01/resource/flash3/images/emoticons/illusion.png\"></td></tr>\n",
       "<tr><td></td><td>:invisibility:</td><td><img src=\"https://raw.githubusercontent.com/dotabuff/d2vpk/master/dota_pak01/resource/flash3/images/emoticons/invisibility.png\"></td></tr>\n",
       "<tr><td></td><td>:laugh:</td><td><img src=\"https://raw.githubusercontent.com/dotabuff/d2vpk/master/dota_pak01/resource/flash3/images/emoticons/laugh.png\"></td></tr>\n",
       "<tr><td></td><td>:rage:</td><td><img src=\"https://raw.githubusercontent.com/dotabuff/d2vpk/master/dota_pak01/resource/flash3/images/emoticons/rage.png\"></td></tr>\n",
       "<tr><td></td><td>:regeneration:</td><td><img src=\"https://raw.githubusercontent.com/dotabuff/d2vpk/master/dota_pak01/resource/flash3/images/emoticons/regeneration.png\"></td></tr>\n",
       "<tr><td></td><td>:sad:</td><td><img src=\"https://raw.githubusercontent.com/dotabuff/d2vpk/master/dota_pak01/resource/flash3/images/emoticons/sad.png\"></td></tr>\n",
       "<tr><td></td><td>:sick:</td><td><img src=\"https://raw.githubusercontent.com/dotabuff/d2vpk/master/dota_pak01/resource/flash3/images/emoticons/sick.png\"></td></tr>\n",
       "<tr><td></td><td>:sleeping:</td><td><img src=\"https://raw.githubusercontent.com/dotabuff/d2vpk/master/dota_pak01/resource/flash3/images/emoticons/sleeping.png\"></td></tr>\n",
       "<tr><td></td><td>:smile:</td><td><img src=\"https://raw.githubusercontent.com/dotabuff/d2vpk/master/dota_pak01/resource/flash3/images/emoticons/smile.png\"></td></tr>\n",
       "<tr><td></td><td>:surprise:</td><td><img src=\"https://raw.githubusercontent.com/dotabuff/d2vpk/master/dota_pak01/resource/flash3/images/emoticons/surprise.png\"></td></tr>\n",
       "<tr><td></td><td>:aaaah:</td><td><img src=\"https://raw.githubusercontent.com/dotabuff/d2vpk/master/dota_pak01/resource/flash3/images/emoticons/aaaah.png\"></td></tr>\n",
       "<tr><td></td><td>:burn:</td><td><img src=\"https://raw.githubusercontent.com/dotabuff/d2vpk/master/dota_pak01/resource/flash3/images/emoticons/burn.png\"></td></tr>\n",
       "<tr><td></td><td>:hide:</td><td><img src=\"https://raw.githubusercontent.com/dotabuff/d2vpk/master/dota_pak01/resource/flash3/images/emoticons/hide.png\"></td></tr>\n",
       "<tr><td></td><td>:iceburn:</td><td><img src=\"https://raw.githubusercontent.com/dotabuff/d2vpk/master/dota_pak01/resource/flash3/images/emoticons/iceburn.png\"></td></tr>\n",
       "<tr><td></td><td>:tears:</td><td><img src=\"https://raw.githubusercontent.com/dotabuff/d2vpk/master/dota_pak01/resource/flash3/images/emoticons/tears.png\"></td></tr>\n",
       "<tr><td></td><td>:techies:</td><td><img src=\"https://raw.githubusercontent.com/dotabuff/d2vpk/master/dota_pak01/resource/flash3/images/emoticons/techies.png\"></td></tr>\n",
       "<tr><td></td><td>:fail:</td><td><img src=\"https://raw.githubusercontent.com/dotabuff/d2vpk/master/dota_pak01/resource/flash3/images/emoticons/dcfail.png\"></td></tr>\n",
       "<tr><td></td><td>:goodjob:</td><td><img src=\"https://raw.githubusercontent.com/dotabuff/d2vpk/master/dota_pak01/resource/flash3/images/emoticons/dcgoodjob.png\"></td></tr>\n",
       "<tr><td></td><td>:headshot:</td><td><img src=\"https://raw.githubusercontent.com/dotabuff/d2vpk/master/dota_pak01/resource/flash3/images/emoticons/dcheadshot.png\"></td></tr>\n",
       "<tr><td></td><td>:heart:</td><td><img src=\"https://raw.githubusercontent.com/dotabuff/d2vpk/master/dota_pak01/resource/flash3/images/emoticons/dcheart.png\"></td></tr>\n",
       "<tr><td></td><td>:horse:</td><td><img src=\"https://raw.githubusercontent.com/dotabuff/d2vpk/master/dota_pak01/resource/flash3/images/emoticons/dchorse.png\"></td></tr>\n",
       "<tr><td></td><td>:grave:</td><td><img src=\"https://raw.githubusercontent.com/dotabuff/d2vpk/master/dota_pak01/resource/flash3/images/emoticons/pa_arcana_rose.png\"></td></tr>\n",
       "<tr><td></td><td>:ti4copper:</td><td><img src=\"https://raw.githubusercontent.com/dotabuff/d2vpk/master/dota_pak01/resource/flash3/images/emoticons/ti4copper.png\"></td></tr>\n",
       "<tr><td></td><td>:ti4bronze:</td><td><img src=\"https://raw.githubusercontent.com/dotabuff/d2vpk/master/dota_pak01/resource/flash3/images/emoticons/ti4bronze.png\"></td></tr>\n",
       "<tr><td></td><td>:ti4silver:</td><td><img src=\"https://raw.githubusercontent.com/dotabuff/d2vpk/master/dota_pak01/resource/flash3/images/emoticons/ti4silver.png\"></td></tr>\n",
       "<tr><td></td><td>:ti4gold:</td><td><img src=\"https://raw.githubusercontent.com/dotabuff/d2vpk/master/dota_pak01/resource/flash3/images/emoticons/ti4gold.png\"></td></tr>\n",
       "<tr><td></td><td>:ti4platinum:</td><td><img src=\"https://raw.githubusercontent.com/dotabuff/d2vpk/master/dota_pak01/resource/flash3/images/emoticons/ti4platinum.png\"></td></tr>\n",
       "<tr><td></td><td>:ti4diamond:</td><td><img src=\"https://raw.githubusercontent.com/dotabuff/d2vpk/master/dota_pak01/resource/flash3/images/emoticons/ti4diamond.png\"></td></tr>\n",
       "<tr><td></td><td>:dac15_blush:</td><td><img src=\"https://raw.githubusercontent.com/dotabuff/d2vpk/master/dota_pak01/resource/flash3/images/emoticons/dac15_blush.png\"></td></tr>\n",
       "<tr><td></td><td>:dac15_surprise:</td><td><img src=\"https://raw.githubusercontent.com/dotabuff/d2vpk/master/dota_pak01/resource/flash3/images/emoticons/dac15_surprise.png\"></td></tr>\n",
       "<tr><td></td><td>:dac15_cool:</td><td><img src=\"https://raw.githubusercontent.com/dotabuff/d2vpk/master/dota_pak01/resource/flash3/images/emoticons/dac15_cool.png\"></td></tr>\n",
       "<tr><td></td><td>:dac15_duel:</td><td><img src=\"https://raw.githubusercontent.com/dotabuff/d2vpk/master/dota_pak01/resource/flash3/images/emoticons/dac15_duel.png\"></td></tr>\n",
       "<tr><td></td><td>:dac15_frog:</td><td><img src=\"https://raw.githubusercontent.com/dotabuff/d2vpk/master/dota_pak01/resource/flash3/images/emoticons/dac15_frog.png\"></td></tr>\n",
       "<tr><td></td><td>:dac15_face:</td><td><img src=\"https://raw.githubusercontent.com/dotabuff/d2vpk/master/dota_pak01/resource/flash3/images/emoticons/dac15_face.png\"></td></tr>\n",
       "<tr><td></td><td>:dac15_nosewipe:</td><td><img src=\"https://raw.githubusercontent.com/dotabuff/d2vpk/master/dota_pak01/resource/flash3/images/emoticons/dac15_nosewipe.png\"></td></tr>\n",
       "<tr><td></td><td>:dac15_stab:</td><td><img src=\"https://raw.githubusercontent.com/dotabuff/d2vpk/master/dota_pak01/resource/flash3/images/emoticons/dac15_stab.png\"></td></tr>\n",
       "<tr><td></td><td>:dac15_transform:</td><td><img src=\"https://raw.githubusercontent.com/dotabuff/d2vpk/master/dota_pak01/resource/flash3/images/emoticons/dac15_transform.png\"></td></tr>\n",
       "<tr><td></td><td>:pup:</td><td><img src=\"https://raw.githubusercontent.com/dotabuff/d2vpk/master/dota_pak01/resource/flash3/images/emoticons/wolf_pup.png\"></td></tr>\n",
       "<tr><td></td><td>:bts_bristle:</td><td><img src=\"https://raw.githubusercontent.com/dotabuff/d2vpk/master/dota_pak01/resource/flash3/images/emoticons/bts3_bristle.png\"></td></tr>\n",
       "<tr><td></td><td>:bts_godz:</td><td><img src=\"https://raw.githubusercontent.com/dotabuff/d2vpk/master/dota_pak01/resource/flash3/images/emoticons/bts3_godz.png\"></td></tr>\n",
       "<tr><td></td><td>:bts_lina:</td><td><img src=\"https://raw.githubusercontent.com/dotabuff/d2vpk/master/dota_pak01/resource/flash3/images/emoticons/bts3_lina.png\"></td></tr>\n",
       "<tr><td></td><td>:bts_merlini:</td><td><img src=\"https://raw.githubusercontent.com/dotabuff/d2vpk/master/dota_pak01/resource/flash3/images/emoticons/bts3_merlini.png\"></td></tr>\n",
       "<tr><td></td><td>:bts_rosh:</td><td><img src=\"https://raw.githubusercontent.com/dotabuff/d2vpk/master/dota_pak01/resource/flash3/images/emoticons/bts3_rosh.png\"></td></tr>\n",
       "<tr><td></td><td>:cocky:</td><td><img src=\"https://raw.githubusercontent.com/dotabuff/d2vpk/master/dota_pak01/resource/flash3/images/emoticons/cocky.png\"></td></tr>\n",
       "<tr><td></td><td>:devil:</td><td><img src=\"https://raw.githubusercontent.com/dotabuff/d2vpk/master/dota_pak01/resource/flash3/images/emoticons/devil.png\"></td></tr>\n",
       "<tr><td></td><td>:happy:</td><td><img src=\"https://raw.githubusercontent.com/dotabuff/d2vpk/master/dota_pak01/resource/flash3/images/emoticons/happy.png\"></td></tr>\n",
       "<tr><td></td><td>:thinking:</td><td><img src=\"https://raw.githubusercontent.com/dotabuff/d2vpk/master/dota_pak01/resource/flash3/images/emoticons/thinking.png\"></td></tr>\n",
       "<tr><td></td><td>:tp:</td><td><img src=\"https://raw.githubusercontent.com/dotabuff/d2vpk/master/dota_pak01/resource/flash3/images/emoticons/tp.png\"></td></tr>\n",
       "<tr><td></td><td>:salty:</td><td><img src=\"https://raw.githubusercontent.com/dotabuff/d2vpk/master/dota_pak01/resource/flash3/images/emoticons/salty.png\"></td></tr>\n",
       "<tr><td></td><td>:angel:</td><td><img src=\"https://raw.githubusercontent.com/dotabuff/d2vpk/master/dota_pak01/resource/flash3/images/emoticons/angel.png\"></td></tr>\n",
       "<tr><td></td><td>:blink:</td><td><img src=\"https://raw.githubusercontent.com/dotabuff/d2vpk/master/dota_pak01/resource/flash3/images/emoticons/blink.png\"></td></tr>\n",
       "<tr><td></td><td>:snot:</td><td><img src=\"https://raw.githubusercontent.com/dotabuff/d2vpk/master/dota_pak01/resource/flash3/images/emoticons/snot.png\"></td></tr>\n",
       "<tr><td></td><td>:stunned:</td><td><img src=\"https://raw.githubusercontent.com/dotabuff/d2vpk/master/dota_pak01/resource/flash3/images/emoticons/stunned.png\"></td></tr>\n",
       "<tr><td></td><td>:disappear:</td><td><img src=\"https://raw.githubusercontent.com/dotabuff/d2vpk/master/dota_pak01/resource/flash3/images/emoticons/disappear.png\"></td></tr>\n",
       "<tr><td></td><td>:fire:</td><td><img src=\"https://raw.githubusercontent.com/dotabuff/d2vpk/master/dota_pak01/resource/flash3/images/emoticons/fire.png\"></td></tr>\n",
       "<tr><td></td><td>:bountyrune:</td><td><img src=\"https://raw.githubusercontent.com/dotabuff/d2vpk/master/dota_pak01/resource/flash3/images/emoticons/bountyrune.png\"></td></tr>\n",
       "<tr><td></td><td>:troll:</td><td><img src=\"https://raw.githubusercontent.com/dotabuff/d2vpk/master/dota_pak01/resource/flash3/images/emoticons/troll.png\"></td></tr>\n",
       "<tr><td></td><td>:gross:</td><td><img src=\"https://raw.githubusercontent.com/dotabuff/d2vpk/master/dota_pak01/resource/flash3/images/emoticons/gross.png\"></td></tr>\n",
       "<tr><td></td><td>:ggdire:</td><td><img src=\"https://raw.githubusercontent.com/dotabuff/d2vpk/master/dota_pak01/resource/flash3/images/emoticons/ggdire.png\"></td></tr>\n",
       "<tr><td></td><td>:ggradiant:</td><td><img src=\"https://raw.githubusercontent.com/dotabuff/d2vpk/master/dota_pak01/resource/flash3/images/emoticons/ggradiant.png\"></td></tr>\n",
       "<tr><td></td><td>:yolo:</td><td><img src=\"https://raw.githubusercontent.com/dotabuff/d2vpk/master/dota_pak01/resource/flash3/images/emoticons/yolo.png\"></td></tr>\n",
       "<tr><td></td><td>:throwgame:</td><td><img src=\"https://raw.githubusercontent.com/dotabuff/d2vpk/master/dota_pak01/resource/flash3/images/emoticons/throwgame.png\"></td></tr>\n",
       "<tr><td></td><td>:aegis2015:</td><td><img src=\"https://raw.githubusercontent.com/dotabuff/d2vpk/master/dota_pak01/resource/flash3/images/emoticons/aegis2015.png\"></td></tr>\n",
       "<tr><td></td><td>:eyeroll:</td><td><img src=\"https://raw.githubusercontent.com/dotabuff/d2vpk/master/dota_pak01/resource/flash3/images/emoticons/eyeroll.png\"></td></tr>\n",
       "</table>"
      ],
      "text/plain": [
       "<IPython.core.display.HTML object>"
      ]
     },
     "execution_count": 1,
     "metadata": {},
     "output_type": "execute_result"
    }
   ],
   "source": [
    "import vdf\n",
    "import requests\n",
    "from collections import OrderedDict\n",
    "from IPython.display import HTML\n",
    "\n",
    "url = \"https://raw.githubusercontent.com/dotabuff/d2vpk/master/dota_pak01/scripts/emoticons.txt\"\n",
    "data = vdf.loads(requests.get(url).content, mapper=OrderedDict)\n",
    "\n",
    "resp = \"<table><tr><th>chr</th><th>alias</th><th>preview</th></tr>\\n\"\n",
    "\n",
    "for k, v in data['emoticons'].items():\n",
    "    resp += \"<tr>\"    \n",
    "    resp += \"<td>%s</td>\" % unichr(0xE000 + int(k))\n",
    "    resp += \"<td>:%s:</td>\" % v['aliases']['0']\n",
    "    resp += '<td><img src=\"https://raw.githubusercontent.com/' + \\\n",
    "      'dotabuff/d2vpk/master/dota_pak01/resource/flash3/images/emoticons/%s\"></td>' % v['image_name']\n",
    "    resp += \"</tr>\\n\"\n",
    "\n",
    "resp += \"</table>\"\n",
    "    \n",
    "HTML(resp)\n"
   ]
  }
 ],
 "metadata": {
  "kernelspec": {
   "display_name": "Python 2",
   "language": "python",
   "name": "python2"
  },
  "language_info": {
   "codemirror_mode": {
    "name": "ipython",
    "version": 2
   },
   "file_extension": ".py",
   "mimetype": "text/x-python",
   "name": "python",
   "nbconvert_exporter": "python",
   "pygments_lexer": "ipython2",
   "version": "2.7.8"
  }
 },
 "nbformat": 4,
 "nbformat_minor": 0
}
