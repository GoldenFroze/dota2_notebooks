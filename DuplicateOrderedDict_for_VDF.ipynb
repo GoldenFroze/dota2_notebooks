{
 "cells": [
  {
   "cell_type": "code",
   "execution_count": 1,
   "metadata": {
    "collapsed": false
   },
   "outputs": [],
   "source": [
    "# requires vdf>=1.6\n",
    "import vdf\n",
    "\n",
    "class DuplicateOrderedDict(dict):\n",
    "    def __init__(self, *args, **kwds):\n",
    "        if len(args) > 1:\n",
    "            raise TypeError('expected at most 1 arguments, got %d' % len(args))\n",
    "        self.__omap = []\n",
    "        if args:\n",
    "            if not isinstance(args[0], list):\n",
    "                raise TypeError(\"Expected a list of (key, value) tuples, got %s\" % type(args[0]))\n",
    "                \n",
    "            for pair in args[0]:\n",
    "                if not isinstance(pair, tuple) and len(pair) != 2:\n",
    "                    raise TypeError(\"Expected a list of (key, value) tuples, got %s\" % type(args[0]))\n",
    "                self.__setitem__(*pair)\n",
    "                \n",
    "    def __repr__(self):\n",
    "        out = \"%s(\" % self.__class__.__name__\n",
    "        out += \"%s)\" % repr(self.items())\n",
    "        return out\n",
    "    \n",
    "    def __setitem__(self, key, value):\n",
    "        if not isinstance(key, tuple):\n",
    "            idx = 0\n",
    "            while True:\n",
    "                if (idx, key) not in self:\n",
    "                    self.__omap.append((idx, key))\n",
    "                    break\n",
    "                else:\n",
    "                    idx += 1\n",
    "            key = (idx, key)\n",
    "        else:\n",
    "            if key not in self:\n",
    "                raise KeyError(\"%s doesn't exist\" % repr(key))\n",
    "        \n",
    "        super(DuplicateOrderedDict, self).__setitem__(key, value)\n",
    "        \n",
    "    def __getitem__(self, key):\n",
    "        if not isinstance(key, tuple):\n",
    "            key = (0, key)\n",
    "        \n",
    "        return super(DuplicateOrderedDict, self).__getitem__(key)\n",
    "    \n",
    "    def __iter__(self):\n",
    "        return iter(map(lambda x: x[1], self.__omap))\n",
    "    \n",
    "    def items(self):\n",
    "        return [(key[1], self[key]) for key in self.__omap]"
   ]
  },
  {
   "cell_type": "code",
   "execution_count": 2,
   "metadata": {
    "collapsed": false
   },
   "outputs": [],
   "source": [
    "data = vdf.load(open('npc_heroes.txt'), mapper=DuplicateOrderedDict)\n",
    "dups = data['DOTAHeroes']['npc_dota_hero_zuus']['Bot']['Loadout']"
   ]
  },
  {
   "cell_type": "code",
   "execution_count": 3,
   "metadata": {
    "collapsed": false
   },
   "outputs": [
    {
     "data": {
      "text/plain": [
       "DuplicateOrderedDict([('item_tango', 'ITEM_CONSUMABLE | ITEM_SELLABLE'), ('item_clarity', 'ITEM_CONSUMABLE | ITEM_SELLABLE'), ('item_clarity', 'ITEM_CONSUMABLE | ITEM_SELLABLE'), ('item_mantle', 'ITEM_CORE'), ('item_circlet', 'ITEM_CORE'), ('item_recipe_null_talisman', 'ITEM_CORE'), ('item_null_talisman', 'ITEM_DERIVED | ITEM_SELLABLE'), ('item_boots', 'ITEM_CORE'), ('item_magic_stick', 'ITEM_CORE | ITEM_SELLABLE'), ('item_point_booster', 'ITEM_CORE'), ('item_staff_of_wizardry', 'ITEM_CORE'), ('item_ogre_axe', 'ITEM_CORE'), ('item_blade_of_alacrity', 'ITEM_CORE'), ('item_ultimate_scepter', 'ITEM_DERIVED'), ('item_blades_of_attack', 'ITEM_CORE'), ('item_blades_of_attack', 'ITEM_CORE'), ('item_phase_boots', 'ITEM_DERIVED'), ('item_void_stone', 'ITEM_EXTENSION'), ('item_ring_of_health', 'ITEM_EXTENSION'), ('item_pers', 'ITEM_DERIVED'), ('item_sobi_mask', 'ITEM_EXTENSION'), ('item_robe', 'ITEM_EXTENSION'), ('item_quarterstaff', 'ITEM_EXTENSION'), ('item_oblivion_staff', 'ITEM_DERIVED'), ('item_recipe_refresher', 'ITEM_EXTENSION'), ('item_refresher', 'ITEM_DERIVED'), ('item_void_stone', 'ITEM_LUXURY'), ('item_mystic_staff', 'ITEM_LUXURY'), ('item_ultimate_orb', 'ITEM_LUXURY'), ('item_sheepstick', 'ITEM_DERIVED')])"
      ]
     },
     "execution_count": 3,
     "metadata": {},
     "output_type": "execute_result"
    }
   ],
   "source": [
    "dups"
   ]
  },
  {
   "cell_type": "code",
   "execution_count": 4,
   "metadata": {
    "collapsed": false
   },
   "outputs": [
    {
     "data": {
      "text/plain": [
       "[('item_tango', 'ITEM_CONSUMABLE | ITEM_SELLABLE'),\n",
       " ('item_clarity', 'ITEM_CONSUMABLE | ITEM_SELLABLE'),\n",
       " ('item_clarity', 'ITEM_CONSUMABLE | ITEM_SELLABLE'),\n",
       " ('item_mantle', 'ITEM_CORE'),\n",
       " ('item_circlet', 'ITEM_CORE'),\n",
       " ('item_recipe_null_talisman', 'ITEM_CORE'),\n",
       " ('item_null_talisman', 'ITEM_DERIVED | ITEM_SELLABLE'),\n",
       " ('item_boots', 'ITEM_CORE'),\n",
       " ('item_magic_stick', 'ITEM_CORE | ITEM_SELLABLE'),\n",
       " ('item_point_booster', 'ITEM_CORE'),\n",
       " ('item_staff_of_wizardry', 'ITEM_CORE'),\n",
       " ('item_ogre_axe', 'ITEM_CORE'),\n",
       " ('item_blade_of_alacrity', 'ITEM_CORE'),\n",
       " ('item_ultimate_scepter', 'ITEM_DERIVED'),\n",
       " ('item_blades_of_attack', 'ITEM_CORE'),\n",
       " ('item_blades_of_attack', 'ITEM_CORE'),\n",
       " ('item_phase_boots', 'ITEM_DERIVED'),\n",
       " ('item_void_stone', 'ITEM_EXTENSION'),\n",
       " ('item_ring_of_health', 'ITEM_EXTENSION'),\n",
       " ('item_pers', 'ITEM_DERIVED'),\n",
       " ('item_sobi_mask', 'ITEM_EXTENSION'),\n",
       " ('item_robe', 'ITEM_EXTENSION'),\n",
       " ('item_quarterstaff', 'ITEM_EXTENSION'),\n",
       " ('item_oblivion_staff', 'ITEM_DERIVED'),\n",
       " ('item_recipe_refresher', 'ITEM_EXTENSION'),\n",
       " ('item_refresher', 'ITEM_DERIVED'),\n",
       " ('item_void_stone', 'ITEM_LUXURY'),\n",
       " ('item_mystic_staff', 'ITEM_LUXURY'),\n",
       " ('item_ultimate_orb', 'ITEM_LUXURY'),\n",
       " ('item_sheepstick', 'ITEM_DERIVED')]"
      ]
     },
     "execution_count": 4,
     "metadata": {},
     "output_type": "execute_result"
    }
   ],
   "source": [
    "dups.items()"
   ]
  },
  {
   "cell_type": "code",
   "execution_count": 5,
   "metadata": {
    "collapsed": false
   },
   "outputs": [
    {
     "data": {
      "text/plain": [
       "[('item_tango', 'ASD'),\n",
       " ('item_tango', 'ZXC'),\n",
       " ('item_clarity', 'CONSUMABLE'),\n",
       " ('item_tango', '123'),\n",
       " ('item_tango', '456')]"
      ]
     },
     "execution_count": 5,
     "metadata": {},
     "output_type": "execute_result"
    }
   ],
   "source": [
    "# lets start from scratch\n",
    "dups = DuplicateOrderedDict([\n",
    "        (\"item_tango\", \"ASD\"),\n",
    "        (\"item_tango\", \"ZXC\"),\n",
    "        (\"item_clarity\", \"CONSUMABLE\"),\n",
    "        (\"item_tango\", \"123\"),\n",
    "        (\"item_tango\", \"456\"),\n",
    "])\n",
    "dups.items()"
   ]
  },
  {
   "cell_type": "code",
   "execution_count": 6,
   "metadata": {
    "collapsed": false
   },
   "outputs": [
    {
     "data": {
      "text/plain": [
       "[('item_tango', 'ASD'),\n",
       " ('item_tango', 'ZXC'),\n",
       " ('item_clarity', 'CONSUMABLE'),\n",
       " ('item_tango', '123'),\n",
       " ('item_tango', '456')]"
      ]
     },
     "execution_count": 6,
     "metadata": {},
     "output_type": "execute_result"
    }
   ],
   "source": [
    "DuplicateOrderedDict(dups.items()).items()"
   ]
  },
  {
   "cell_type": "code",
   "execution_count": 7,
   "metadata": {
    "collapsed": false
   },
   "outputs": [
    {
     "data": {
      "text/plain": [
       "{(0, 'item_clarity'): 'CONSUMABLE',\n",
       " (0, 'item_tango'): 'ASD',\n",
       " (1, 'item_tango'): 'ZXC',\n",
       " (2, 'item_tango'): '123',\n",
       " (3, 'item_tango'): '456'}"
      ]
     },
     "execution_count": 7,
     "metadata": {},
     "output_type": "execute_result"
    }
   ],
   "source": [
    "# it's just a dict with tuple for keys\n",
    "dict(dups)"
   ]
  },
  {
   "cell_type": "code",
   "execution_count": 8,
   "metadata": {
    "collapsed": false
   },
   "outputs": [
    {
     "data": {
      "text/plain": [
       "[('item_tango', '456'),\n",
       " ('item_tango', '123'),\n",
       " ('item_clarity', 'CONSUMABLE'),\n",
       " ('item_tango', 'ZXC'),\n",
       " ('item_tango', 'ASD')]"
      ]
     },
     "execution_count": 8,
     "metadata": {},
     "output_type": "execute_result"
    }
   ],
   "source": [
    "# reverse order, or alternatively implement DuplicateOrderedDict.reverse()\n",
    "DuplicateOrderedDict(list(reversed(dups.items()))).items()"
   ]
  },
  {
   "cell_type": "code",
   "execution_count": 9,
   "metadata": {
    "collapsed": false
   },
   "outputs": [
    {
     "name": "stdout",
     "output_type": "stream",
     "text": [
      "ASD\n",
      "ASD\n",
      "ZXC\n"
     ]
    },
    {
     "ename": "KeyError",
     "evalue": "(10, 'item_tango')",
     "output_type": "error",
     "traceback": [
      "\u001b[1;31m---------------------------------------------------------------------------\u001b[0m",
      "\u001b[1;31mKeyError\u001b[0m                                  Traceback (most recent call last)",
      "\u001b[1;32m<ipython-input-9-189046af8122>\u001b[0m in \u001b[0;36m<module>\u001b[1;34m()\u001b[0m\n\u001b[0;32m      2\u001b[0m \u001b[1;32mprint\u001b[0m \u001b[0mdups\u001b[0m\u001b[1;33m[\u001b[0m\u001b[1;33m(\u001b[0m\u001b[1;36m0\u001b[0m\u001b[1;33m,\u001b[0m \u001b[1;34m'item_tango'\u001b[0m\u001b[1;33m)\u001b[0m\u001b[1;33m]\u001b[0m \u001b[1;31m# same as above\u001b[0m\u001b[1;33m\u001b[0m\u001b[0m\n\u001b[0;32m      3\u001b[0m \u001b[1;32mprint\u001b[0m \u001b[0mdups\u001b[0m\u001b[1;33m[\u001b[0m\u001b[1;33m(\u001b[0m\u001b[1;36m1\u001b[0m\u001b[1;33m,\u001b[0m \u001b[1;34m'item_tango'\u001b[0m\u001b[1;33m)\u001b[0m\u001b[1;33m]\u001b[0m \u001b[1;31m# first duplicate\u001b[0m\u001b[1;33m\u001b[0m\u001b[0m\n\u001b[1;32m----> 4\u001b[1;33m \u001b[1;32mprint\u001b[0m \u001b[0mdups\u001b[0m\u001b[1;33m[\u001b[0m\u001b[1;33m(\u001b[0m\u001b[1;36m10\u001b[0m\u001b[1;33m,\u001b[0m \u001b[1;34m'item_tango'\u001b[0m\u001b[1;33m)\u001b[0m\u001b[1;33m]\u001b[0m \u001b[1;31m# doesnt exist :(\u001b[0m\u001b[1;33m\u001b[0m\u001b[0m\n\u001b[0m",
      "\u001b[1;32m<ipython-input-1-72f4e4225bb9>\u001b[0m in \u001b[0;36m__getitem__\u001b[1;34m(self, key)\u001b[0m\n\u001b[0;32m     41\u001b[0m             \u001b[0mkey\u001b[0m \u001b[1;33m=\u001b[0m \u001b[1;33m(\u001b[0m\u001b[1;36m0\u001b[0m\u001b[1;33m,\u001b[0m \u001b[0mkey\u001b[0m\u001b[1;33m)\u001b[0m\u001b[1;33m\u001b[0m\u001b[0m\n\u001b[0;32m     42\u001b[0m \u001b[1;33m\u001b[0m\u001b[0m\n\u001b[1;32m---> 43\u001b[1;33m         \u001b[1;32mreturn\u001b[0m \u001b[0msuper\u001b[0m\u001b[1;33m(\u001b[0m\u001b[0mDuplicateOrderedDict\u001b[0m\u001b[1;33m,\u001b[0m \u001b[0mself\u001b[0m\u001b[1;33m)\u001b[0m\u001b[1;33m.\u001b[0m\u001b[0m__getitem__\u001b[0m\u001b[1;33m(\u001b[0m\u001b[0mkey\u001b[0m\u001b[1;33m)\u001b[0m\u001b[1;33m\u001b[0m\u001b[0m\n\u001b[0m\u001b[0;32m     44\u001b[0m \u001b[1;33m\u001b[0m\u001b[0m\n\u001b[0;32m     45\u001b[0m     \u001b[1;32mdef\u001b[0m \u001b[0m__iter__\u001b[0m\u001b[1;33m(\u001b[0m\u001b[0mself\u001b[0m\u001b[1;33m)\u001b[0m\u001b[1;33m:\u001b[0m\u001b[1;33m\u001b[0m\u001b[0m\n",
      "\u001b[1;31mKeyError\u001b[0m: (10, 'item_tango')"
     ]
    }
   ],
   "source": [
    "print dups['item_tango']\n",
    "print dups[(0, 'item_tango')] # same as above\n",
    "print dups[(1, 'item_tango')] # first duplicate\n",
    "print dups[(10, 'item_tango')] # doesnt exist :("
   ]
  },
  {
   "cell_type": "code",
   "execution_count": 10,
   "metadata": {
    "collapsed": false
   },
   "outputs": [
    {
     "data": {
      "text/plain": [
       "[('item_tango', 'NEW VALUE'),\n",
       " ('item_tango', 'ZXC'),\n",
       " ('item_clarity', 'CONSUMABLE'),\n",
       " ('item_tango', '123'),\n",
       " ('item_tango', '456'),\n",
       " ('item_clarity', 'NEW DUPLICATE')]"
      ]
     },
     "execution_count": 10,
     "metadata": {},
     "output_type": "execute_result"
    }
   ],
   "source": [
    "# new duplicate keys are appended at the end\n",
    "dups['item_clarity'] = \"NEW DUPLICATE\"\n",
    "# to reassign a value use tuple key\n",
    "dups[(0, 'item_tango')] = \"NEW VALUE\"\n",
    "dups.items()"
   ]
  },
  {
   "cell_type": "code",
   "execution_count": 11,
   "metadata": {
    "collapsed": false
   },
   "outputs": [
    {
     "name": "stdout",
     "output_type": "stream",
     "text": [
      "\"Loadout\"\n",
      "{\n",
      "\t\"item_tango\" \"NEW VALUE\"\n",
      "\t\"item_tango\" \"ZXC\"\n",
      "\t\"item_clarity\" \"CONSUMABLE\"\n",
      "\t\"item_tango\" \"123\"\n",
      "\t\"item_tango\" \"456\"\n",
      "\t\"item_clarity\" \"NEW DUPLICATE\"\n",
      "}\n",
      "\"Build\"\n",
      "{\n",
      "\t\"1\" \"zuus_lightning_bolt\"\n",
      "\t\"2\" \"zuus_static_field\"\n",
      "\t\"3\" \"zuus_lightning_bolt\"\n",
      "\t\"4\" \"zuus_arc_lightning\"\n",
      "\t\"5\" \"zuus_lightning_bolt\"\n",
      "\t\"6\" \"zuus_thundergods_wrath\"\n",
      "\t\"7\" \"zuus_lightning_bolt\"\n",
      "\t\"8\" \"zuus_static_field\"\n",
      "\t\"9\" \"zuus_static_field\"\n",
      "\t\"10\" \"zuus_static_field\"\n",
      "\t\"11\" \"zuus_thundergods_wrath\"\n",
      "\t\"12\" \"zuus_arc_lightning\"\n",
      "\t\"13\" \"zuus_arc_lightning\"\n",
      "\t\"14\" \"zuus_arc_lightning\"\n",
      "\t\"15\" \"attribute_bonus\"\n",
      "\t\"16\" \"zuus_thundergods_wrath\"\n",
      "\t\"17\" \"attribute_bonus\"\n",
      "\t\"18\" \"attribute_bonus\"\n",
      "\t\"19\" \"attribute_bonus\"\n",
      "\t\"20\" \"attribute_bonus\"\n",
      "\t\"21\" \"attribute_bonus\"\n",
      "\t\"22\" \"attribute_bonus\"\n",
      "\t\"23\" \"attribute_bonus\"\n",
      "\t\"24\" \"attribute_bonus\"\n",
      "\t\"25\" \"attribute_bonus\"\n",
      "}\n",
      "\"LaningInfo\"\n",
      "{\n",
      "\t\"SoloDesire\" \"1\"\n",
      "\t\"RequiresBabysit\" \"0\"\n",
      "\t\"ProvidesBabysit\" \"1\"\n",
      "\t\"SurvivalRating\" \"0\"\n",
      "\t\"RequiresFarm\" \"1\"\n",
      "\t\"ProvidesSetup\" \"0\"\n",
      "\t\"RequiresSetup\" \"1\"\n",
      "}\n",
      "\"HeroType\" \"DOTA_BOT_GANKER | DOTA_BOT_NUKER\"\n",
      "\n"
     ]
    }
   ],
   "source": [
    "data['DOTAHeroes']['npc_dota_hero_zuus']['Bot'][(0,'Loadout')] = dups\n",
    "print vdf.dumps(data['DOTAHeroes']['npc_dota_hero_zuus']['Bot'], pretty=True)"
   ]
  }
 ],
 "metadata": {
  "kernelspec": {
   "display_name": "Python 2",
   "language": "python",
   "name": "python2"
  }
 },
 "nbformat": 4,
 "nbformat_minor": 0
}
